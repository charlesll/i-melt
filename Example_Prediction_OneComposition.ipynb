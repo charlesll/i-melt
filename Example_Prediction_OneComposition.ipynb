{
 "cells": [
  {
   "cell_type": "markdown",
   "id": "f6a92a99",
   "metadata": {},
   "source": [
    "# Prediction for one composition\n",
    "\n",
    "(c) Le Losq et al. 2023\n",
    "see embedded licence file\n",
    "\n",
    "**This is a simple notebook to use: follow the instructions, and you will get predictions for a composition of interest.**"
   ]
  },
  {
   "cell_type": "code",
   "execution_count": 1,
   "id": "ea6447be",
   "metadata": {},
   "outputs": [],
   "source": [
    "# Library loading and additional function definition\n",
    "%matplotlib inline\n",
    "\n",
    "# dataframes and arrays\n",
    "import pandas as pd, numpy as np\n",
    "\n",
    "# for plotting\n",
    "import matplotlib.pyplot as plt \n",
    "\n",
    "# imelt internals\n",
    "import src.imelt as imelt\n",
    "import src.utils as utils\n",
    "\n",
    "import torch\n",
    "\n",
    "# we will work on CPU there\n",
    "device=torch.device('cpu')\n",
    "\n",
    "# we load the model\n",
    "imelt_model = imelt.load_pretrained_bagged()"
   ]
  },
  {
   "cell_type": "markdown",
   "id": "95bd5fda",
   "metadata": {},
   "source": [
    "# What is the composition of interest ?\n",
    "\n",
    "Here we reproduce the prediction for albite glass, change for your case."
   ]
  },
  {
   "cell_type": "code",
   "execution_count": 5,
   "id": "d398d248",
   "metadata": {},
   "outputs": [],
   "source": [
    "composition = pd.DataFrame()\n",
    "\n",
    "# MODIFY THE FOLLOWING\n",
    "composition[\"sio2\"] = 0.75\n",
    "composition[\"al2o3\"] = 0.125\n",
    "composition[\"na2o\"] = 0.125\n",
    "composition[\"k2o\"] = 0.0\n",
    "composition[\"mgo\"] = 0.0\n",
    "composition[\"cao\"] = 0.0\n",
    "\n",
    "# some internal workings to add descriptors\n",
    "composition = utils.descriptors(composition).values"
   ]
  },
  {
   "cell_type": "markdown",
   "id": "3bb7e784",
   "metadata": {},
   "source": [
    "# Viscosity prediction\n",
    "\n",
    "1/ Select the temperature range\n"
   ]
  },
  {
   "cell_type": "code",
   "execution_count": 6,
   "id": "7aca6ee9",
   "metadata": {},
   "outputs": [],
   "source": [
    "T_start = 2000 # MODIFY THIS, lower T limit\n",
    "T_stop = 3000 # MODIFY THIS, upper T limit"
   ]
  },
  {
   "cell_type": "markdown",
   "id": "f3b909d6",
   "metadata": {},
   "source": [
    "2/ select the equation, among: \n",
    "    \n",
    "    - ag > Adam-Gibbs\n",
    "    - am > Avramov Milchev\n",
    "    - myega > MYEGA\n",
    "    - tvf > VFT equation\n",
    "    - cg > Free Volume"
   ]
  },
  {
   "cell_type": "code",
   "execution_count": 7,
   "id": "2e885096",
   "metadata": {},
   "outputs": [],
   "source": [
    "equation = \"ag\" # MODIFY THIS"
   ]
  },
  {
   "cell_type": "markdown",
   "id": "0770819f",
   "metadata": {},
   "source": [
    "# Some examples of predictions\n",
    "\n",
    "Basically, the model object, here called imelt_model, has a `predict` method. You can pass many different parameters here to calculate various properties/variables. We show a brief example here, look at the source code of i-Melt to get further ideas!"
   ]
  },
  {
   "cell_type": "code",
   "execution_count": 8,
   "id": "940622ef",
   "metadata": {},
   "outputs": [
    {
     "ename": "NameError",
     "evalue": "name 'neuralmodel' is not defined",
     "output_type": "error",
     "traceback": [
      "\u001b[0;31m---------------------------------------------------------------------------\u001b[0m",
      "\u001b[0;31mNameError\u001b[0m                                 Traceback (most recent call last)",
      "Input \u001b[0;32mIn [8]\u001b[0m, in \u001b[0;36m<cell line: 3>\u001b[0;34m()\u001b[0m\n\u001b[1;32m      1\u001b[0m T_range \u001b[38;5;241m=\u001b[39m np\u001b[38;5;241m.\u001b[39marange(T_start, T_stop, \u001b[38;5;241m1.0\u001b[39m)\n\u001b[0;32m----> 3\u001b[0m viscosity \u001b[38;5;241m=\u001b[39m \u001b[43mneuralmodel\u001b[49m\u001b[38;5;241m.\u001b[39mpredict(equation,composition\u001b[38;5;241m*\u001b[39mnp\u001b[38;5;241m.\u001b[39mones((\u001b[38;5;28mlen\u001b[39m(T_range),\u001b[38;5;241m39\u001b[39m)),T_range\u001b[38;5;241m.\u001b[39mreshape(\u001b[38;5;241m-\u001b[39m\u001b[38;5;241m1\u001b[39m,\u001b[38;5;241m1\u001b[39m))\n\u001b[1;32m      4\u001b[0m tg \u001b[38;5;241m=\u001b[39m neuralmodel\u001b[38;5;241m.\u001b[39mpredict(\u001b[38;5;124m\"\u001b[39m\u001b[38;5;124mtg\u001b[39m\u001b[38;5;124m\"\u001b[39m,composition, sampling\u001b[38;5;241m=\u001b[39m\u001b[38;5;28;01mTrue\u001b[39;00m, n_sample\u001b[38;5;241m=\u001b[39m\u001b[38;5;241m20\u001b[39m)\n\u001b[1;32m      5\u001b[0m sctg \u001b[38;5;241m=\u001b[39m neuralmodel\u001b[38;5;241m.\u001b[39mpredict(\u001b[38;5;124m\"\u001b[39m\u001b[38;5;124msctg\u001b[39m\u001b[38;5;124m\"\u001b[39m, composition, sampling\u001b[38;5;241m=\u001b[39m\u001b[38;5;28;01mTrue\u001b[39;00m, n_sample\u001b[38;5;241m=\u001b[39m\u001b[38;5;241m20\u001b[39m)\n",
      "\u001b[0;31mNameError\u001b[0m: name 'neuralmodel' is not defined"
     ]
    }
   ],
   "source": [
    "T_range = np.arange(T_start, T_stop, 1.0)\n",
    "\n",
    "viscosity = imelt_model.predict(equation,composition*np.ones((len(T_range),39)),T_range.reshape(-1,1))\n",
    "tg = imelt_model.predict(\"tg\",composition, sampling=True, n_sample=20)\n",
    "sctg = imelt_model.predict(\"sctg\", composition, sampling=True, n_sample=20)\n",
    "fragility = imelt_model.predict(\"fragility\", composition, sampling=True, n_sample=20)\n",
    "density = imelt_model.predict(\"density_glass\", composition, sampling=True, n_sample=20)\n",
    "ri = imelt_model.predict(\"sellmeier\", composition, [589.0], sampling=True, n_sample=20)\n",
    "\n",
    "A_TVF = imelt_model.predict(\"a_tvf\", composition, sampling=True, n_sample=20)\n",
    "B_TVF = imelt_model.predict(\"b_tvf\", composition, sampling=True, n_sample=20)\n",
    "C_TVF = imelt_model.predict(\"c_tvf\", composition, sampling=True, n_sample=20)\n",
    "\n",
    "raman = imelt_model.predict(\"raman_pred\", composition, sampling=True, n_sample=20)\n",
    "\n",
    "print('')\n",
    "print('Results for composition with mol fractions')\n",
    "print('{} SiO2, {} Al2O3, {} Na2O, {} K2O, {} MgO, {} CaO'.format(composition[0,0],composition[0,1],composition[0,2],\n",
    "                                                                 composition[0,3],composition[0,4],composition[0,5]))\n",
    "print('')\n",
    "print('Tg is of {:.0f} +/- {:.0f}'.format(tg.mean(axis=1)[0], tg.std(axis=1)[0]))\n",
    "print('Sconf at Tg is of {:.1f} +/- {:.1f}'.format(sctg.mean(axis=1)[0], sctg.std(axis=1)[0]))\n",
    "print('')\n",
    "print('Fragility is of {:.1f} +/- {:.1f}'.format(fragility.mean(axis=1)[0], fragility.std(axis=1)[0]))\n",
    "print('Density is of {:.3f} +/- {:.3f}'.format(density.mean(axis=1)[0], density.std(axis=1)[0]))\n",
    "print('Refractive Index at 598 nm is of {:.3f} +/- {:.3f}'.format(ri.mean(axis=1)[0], ri.std(axis=1)[0]))\n",
    "print('')\n",
    "print('Parameter A for VFT is of {:.2f}'.format(A_TVF.mean(axis=1)[0]))\n",
    "print('Parameter B for VFT is of {:.1f}'.format(B_TVF.mean(axis=1)[0]))\n",
    "print('Parameter C for VFT is of {:.1f}'.format(C_TVF.mean(axis=1)[0]))\n",
    "\n",
    "# Plotting the Raman spectra\n",
    "x_raman_shift = np.arange(400.,1250.,1.0)\n",
    "plt.figure()\n",
    "plt.plot(x_raman_shift,raman.mean(axis=2).ravel())\n",
    "plt.xlabel(\"Raman shift, cm-1\")\n",
    "plt.ylabel(\"Intensity, a.u.\")\n",
    "plt.show()"
   ]
  },
  {
   "cell_type": "code",
   "execution_count": null,
   "id": "4f340dcb",
   "metadata": {},
   "outputs": [],
   "source": []
  }
 ],
 "metadata": {
  "kernelspec": {
   "display_name": "Python 3 (ipykernel)",
   "language": "python",
   "name": "python3"
  },
  "language_info": {
   "codemirror_mode": {
    "name": "ipython",
    "version": 3
   },
   "file_extension": ".py",
   "mimetype": "text/x-python",
   "name": "python",
   "nbconvert_exporter": "python",
   "pygments_lexer": "ipython3",
   "version": "3.9.13"
  },
  "vscode": {
   "interpreter": {
    "hash": "92ba9fa3096d40748139aa93b850878747f0837bc3bc6e2a983f4f9b7c10c677"
   }
  }
 },
 "nbformat": 4,
 "nbformat_minor": 5
}
