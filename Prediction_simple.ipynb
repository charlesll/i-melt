{
 "cells": [
  {
   "cell_type": "markdown",
   "metadata": {},
   "source": [
    "# Example of predictions for one composition\n",
    "\n",
    "**This notebook illustrates how we can get predictions for a composition of interest in a Jupyter Notebook setting.**\n",
    "\n",
    "The first step is to load the libraries of interest:"
   ]
  },
  {
   "cell_type": "code",
   "execution_count": 1,
   "metadata": {},
   "outputs": [],
   "source": [
    "#\n",
    "# Library loading and additional function definition\n",
    "#\n",
    "%matplotlib inline #matplotlib magic\n",
    "\n",
    "\n",
    "import numpy as np # for arrays\n",
    "import matplotlib.pyplot as plt # for plotting\n",
    "import imelt # the imelt library"
   ]
  },
  {
   "cell_type": "markdown",
   "metadata": {},
   "source": [
    "The `imelt` library provides directly a function to load the trained model:"
   ]
  },
  {
   "cell_type": "code",
   "execution_count": 2,
   "metadata": {},
   "outputs": [],
   "source": [
    "imelt_model = imelt.load_pretrained_bagged() # load the pre-trained 10 best models"
   ]
  },
  {
   "cell_type": "markdown",
   "metadata": {},
   "source": [
    "Now we defined a composition of interest. We indicate the mol fractions of SiO2, Al2O3, Na2O and K2O:"
   ]
  },
  {
   "cell_type": "code",
   "execution_count": 3,
   "metadata": {},
   "outputs": [],
   "source": [
    "composition = np.array([0.65, 0.10, 0.20, 0.05]).reshape(1,-1)"
   ]
  },
  {
   "cell_type": "markdown",
   "metadata": {},
   "source": [
    "We can then get predictions of the glass Tg, density, fragility, or optical refractive index at 589 nm:"
   ]
  },
  {
   "cell_type": "code",
   "execution_count": 13,
   "metadata": {},
   "outputs": [],
   "source": [
    "tg = imelt_model.predict(\"tg\", composition) # glass transition temperature\n",
    "density = imelt_model.predict(\"density\", composition) # glass density\n",
    "fragility = imelt_model.predict(\"fragility\", composition) # glass density\n",
    "ri = imelt_model.predict(\"sellmeier\", composition, [589.0]) # glass refractive index at 589 nm"
   ]
  },
  {
   "cell_type": "markdown",
   "metadata": {},
   "source": [
    "Predictions contain the outputs of the 10 best models. To get a single value, we can take the mean() and print it:"
   ]
  },
  {
   "cell_type": "code",
   "execution_count": 14,
   "metadata": {},
   "outputs": [
    {
     "name": "stdout",
     "output_type": "stream",
     "text": [
      "Glass transition temperature = 790 K\n",
      "Glass density = 2.462 g cm-3\n",
      "Fragility = 32.1\n",
      "Refractive Index at 598 nm = 1.805\n"
     ]
    }
   ],
   "source": [
    "print('Glass transition temperature = {:.0f} K'.format(tg.mean(axis=1)[0]))\n",
    "print('Glass density = {:.3f} g cm-3'.format(density.mean(axis=1)[0]))\n",
    "print('Fragility = {:.1f}'.format(fragility.mean(axis=1)[0]))\n",
    "print('Refractive Index at 598 nm = {:.3f}'.format(ri.mean(axis=1)[0]))"
   ]
  },
  {
   "cell_type": "markdown",
   "metadata": {},
   "source": [
    "## Viscosity prediction\n",
    "\n",
    "Now we can get prediction for the viscosity. We first select a temperature range and generate a temperature interval using the `numpy.arange()` function:"
   ]
  },
  {
   "cell_type": "code",
   "execution_count": 6,
   "metadata": {},
   "outputs": [],
   "source": [
    "T_start = 600 # MODIFY THIS, lower T limit\n",
    "T_stop = 1500 # MODIFY THIS, upper T limit\n",
    "T_range = np.arange(T_start, T_stop, 1.0)"
   ]
  },
  {
   "cell_type": "markdown",
   "metadata": {},
   "source": [
    "For the prediction, we can select different equations:\n",
    "\n",
    "- ag > Adam-Gibbs\n",
    "- am > Avramov Milchev\n",
    "- myega > MYEGA\n",
    "- tvf > VFT equation\n",
    "- cg > Free Volume\n",
    "\n",
    "Here we will choose the Adam-Gibbs one:"
   ]
  },
  {
   "cell_type": "code",
   "execution_count": 7,
   "metadata": {},
   "outputs": [
    {
     "data": {
      "text/plain": [
       "Text(0, 0.5, 'Viscosity, log Pa s')"
      ]
     },
     "execution_count": 7,
     "metadata": {},
     "output_type": "execute_result"
    },
    {
     "data": {
      "image/png": "[encoded data removed]",
      "text/plain": [
       "<Figure size 432x288 with 1 Axes>"
      ]
     },
     "metadata": {
      "needs_background": "light"
     },
     "output_type": "display_data"
    }
   ],
   "source": [
    "equation = \"ag\"\n",
    "\n",
    "# The prediction happens here\n",
    "viscosity = imelt_model.predict(equation,composition*np.ones((len(T_range),4)),T_range.reshape(-1,1))\n",
    "\n",
    "# and we make a nice plot\n",
    "\n",
    "plt.figure()\n",
    "plt.plot(T_range, viscosity.mean(axis=1)) # we need to average the values outputed from the 10 best networks\n",
    "plt.xlabel(\"Temperature, K\")\n",
    "plt.ylabel(\"Viscosity, log Pa s\")"
   ]
  },
  {
   "cell_type": "markdown",
   "metadata": {},
   "source": [
    "One can access the individual parameters of an equation directly by calling their name (see the `imelt.model()` class for a list). Here, we can print the values of Ae, Be and Sconf(Tg) for the Adam-Gibbs equation:\n"
   ]
  },
  {
   "cell_type": "code",
   "execution_count": 8,
   "metadata": {},
   "outputs": [
    {
     "name": "stdout",
     "output_type": "stream",
     "text": [
      "Ae = -1.78\n",
      "Be = 84767.7\n",
      "Sconf(Tg) = 7.8\n"
     ]
    }
   ],
   "source": [
    "print(\"Ae = {:0.2f}\".format(imelt_model.predict(\"ae\", composition).mean()))\n",
    "print(\"Be = {:0.1f}\".format(imelt_model.predict(\"be\", composition).mean()))\n",
    "print(\"Sconf(Tg) = {:0.1f}\".format(imelt_model.predict(\"sctg\", composition).mean()))"
   ]
  },
  {
   "cell_type": "markdown",
   "metadata": {},
   "source": [
    "We can do the same for other equations, like the VFT one A + B/(T-C):"
   ]
  },
  {
   "cell_type": "code",
   "execution_count": 9,
   "metadata": {},
   "outputs": [
    {
     "name": "stdout",
     "output_type": "stream",
     "text": [
      "A = -4.32\n",
      "B = 7158.7\n",
      "C = 351.7\n"
     ]
    }
   ],
   "source": [
    "print(\"A = {:0.2f}\".format(imelt_model.predict(\"a_tvf\", composition).mean()))\n",
    "print(\"B = {:0.1f}\".format(imelt_model.predict(\"b_tvf\", composition).mean()))\n",
    "print(\"C = {:0.1f}\".format(imelt_model.predict(\"c_tvf\", composition).mean()))"
   ]
  },
  {
   "cell_type": "markdown",
   "metadata": {},
   "source": [
    "## Raman spectrum prediction\n",
    "\n",
    "Now we want to predict the Raman spectrum for our composition of interest. This is simply done with this line of code:"
   ]
  },
  {
   "cell_type": "code",
   "execution_count": 11,
   "metadata": {},
   "outputs": [],
   "source": [
    "raman = imelt_model.predict(\"raman_pred\", np.array(composition).reshape(1,-1))"
   ]
  },
  {
   "cell_type": "markdown",
   "metadata": {},
   "source": [
    "We can now make a plot of the spectrum:"
   ]
  },
  {
   "cell_type": "code",
   "execution_count": 12,
   "metadata": {},
   "outputs": [
    {
     "data": {
      "image/png": "[encoded data removed]",
      "text/plain": [
       "<Figure size 432x288 with 1 Axes>"
      ]
     },
     "metadata": {
      "needs_background": "light"
     },
     "output_type": "display_data"
    }
   ],
   "source": [
    "# Plotting the Raman spectra\n",
    "x_raman_shift = np.arange(400.,1250.,1.0)\n",
    "plt.figure()\n",
    "plt.plot(x_raman_shift,raman.mean(axis=2).ravel())\n",
    "plt.xlabel(\"Raman shift, cm-1\")\n",
    "plt.ylabel(\"Intensity, a.u.\")\n",
    "plt.show()"
   ]
  },
  {
   "cell_type": "code",
   "execution_count": null,
   "metadata": {},
   "outputs": [],
   "source": []
  }
 ],
 "metadata": {
  "kernelspec": {
   "display_name": "Python 3",
   "language": "python",
   "name": "python3"
  },
  "language_info": {
   "codemirror_mode": {
    "name": "ipython",
    "version": 3
   },
   "file_extension": ".py",
   "mimetype": "text/x-python",
   "name": "python",
   "nbconvert_exporter": "python",
   "pygments_lexer": "ipython3",
   "version": "3.7.7"
  }
 },
 "nbformat": 4,
 "nbformat_minor": 5
}
